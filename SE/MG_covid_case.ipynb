{
 "cells": [
  {
   "cell_type": "code",
   "execution_count": 1,
   "metadata": {},
   "outputs": [],
   "source": [
    "import pandas as pd\n",
    "import numpy as np\n",
    "import os\n",
    "import matplotlib.pyplot as plt\n",
    "import seaborn as sns\n",
    "from sklearn.preprocessing import PolynomialFeatures\n",
    "from sklearn.linear_model import LinearRegression"
   ]
  },
  {
   "cell_type": "code",
   "execution_count": 2,
   "metadata": {},
   "outputs": [],
   "source": [
    "os.chdir(r\"..\\datasets\")"
   ]
  },
  {
   "cell_type": "code",
   "execution_count": 3,
   "metadata": {},
   "outputs": [],
   "source": [
    "drop_columns = ['geoId', 'countryterritoryCode', 'day', 'month', 'year']"
   ]
  },
  {
   "cell_type": "markdown",
   "metadata": {},
   "source": [
    "<p style=\"color:red;\">To make the model more generic to other countries I would suggest we need to give the model some understanding other differneces between china and other contries</p>"
   ]
  },
  {
   "cell_type": "code",
   "execution_count": 4,
   "metadata": {},
   "outputs": [],
   "source": [
    "#target_country = \"China\""
   ]
  },
  {
   "cell_type": "code",
   "execution_count": 5,
   "metadata": {},
   "outputs": [],
   "source": [
    "# Import and format dataframe\n",
    "covid19_df = pd.read_csv('COVID-19-geographic-disbtribution-worldwide-2020-03-31.csv', engine='python')"
   ]
  },
  {
   "cell_type": "code",
   "execution_count": 6,
   "metadata": {},
   "outputs": [
    {
     "data": {
      "text/html": [
       "<div>\n",
       "<style scoped>\n",
       "    .dataframe tbody tr th:only-of-type {\n",
       "        vertical-align: middle;\n",
       "    }\n",
       "\n",
       "    .dataframe tbody tr th {\n",
       "        vertical-align: top;\n",
       "    }\n",
       "\n",
       "    .dataframe thead th {\n",
       "        text-align: right;\n",
       "    }\n",
       "</style>\n",
       "<table border=\"1\" class=\"dataframe\">\n",
       "  <thead>\n",
       "    <tr style=\"text-align: right;\">\n",
       "      <th></th>\n",
       "      <th>dateRep</th>\n",
       "      <th>day</th>\n",
       "      <th>month</th>\n",
       "      <th>year</th>\n",
       "      <th>cases</th>\n",
       "      <th>deaths</th>\n",
       "      <th>countriesAndTerritories</th>\n",
       "      <th>geoId</th>\n",
       "      <th>countryterritoryCode</th>\n",
       "      <th>popData2018</th>\n",
       "    </tr>\n",
       "  </thead>\n",
       "  <tbody>\n",
       "    <tr>\n",
       "      <th>0</th>\n",
       "      <td>31/03/2020</td>\n",
       "      <td>31</td>\n",
       "      <td>3</td>\n",
       "      <td>2020</td>\n",
       "      <td>27</td>\n",
       "      <td>0</td>\n",
       "      <td>Afghanistan</td>\n",
       "      <td>AF</td>\n",
       "      <td>AFG</td>\n",
       "      <td>37172386.0</td>\n",
       "    </tr>\n",
       "    <tr>\n",
       "      <th>1</th>\n",
       "      <td>30/03/2020</td>\n",
       "      <td>30</td>\n",
       "      <td>3</td>\n",
       "      <td>2020</td>\n",
       "      <td>8</td>\n",
       "      <td>1</td>\n",
       "      <td>Afghanistan</td>\n",
       "      <td>AF</td>\n",
       "      <td>AFG</td>\n",
       "      <td>37172386.0</td>\n",
       "    </tr>\n",
       "    <tr>\n",
       "      <th>2</th>\n",
       "      <td>29/03/2020</td>\n",
       "      <td>29</td>\n",
       "      <td>3</td>\n",
       "      <td>2020</td>\n",
       "      <td>15</td>\n",
       "      <td>1</td>\n",
       "      <td>Afghanistan</td>\n",
       "      <td>AF</td>\n",
       "      <td>AFG</td>\n",
       "      <td>37172386.0</td>\n",
       "    </tr>\n",
       "    <tr>\n",
       "      <th>3</th>\n",
       "      <td>28/03/2020</td>\n",
       "      <td>28</td>\n",
       "      <td>3</td>\n",
       "      <td>2020</td>\n",
       "      <td>16</td>\n",
       "      <td>1</td>\n",
       "      <td>Afghanistan</td>\n",
       "      <td>AF</td>\n",
       "      <td>AFG</td>\n",
       "      <td>37172386.0</td>\n",
       "    </tr>\n",
       "    <tr>\n",
       "      <th>4</th>\n",
       "      <td>27/03/2020</td>\n",
       "      <td>27</td>\n",
       "      <td>3</td>\n",
       "      <td>2020</td>\n",
       "      <td>0</td>\n",
       "      <td>0</td>\n",
       "      <td>Afghanistan</td>\n",
       "      <td>AF</td>\n",
       "      <td>AFG</td>\n",
       "      <td>37172386.0</td>\n",
       "    </tr>\n",
       "  </tbody>\n",
       "</table>\n",
       "</div>"
      ],
      "text/plain": [
       "      dateRep  day  month  year  cases  deaths countriesAndTerritories geoId  \\\n",
       "0  31/03/2020   31      3  2020     27       0             Afghanistan    AF   \n",
       "1  30/03/2020   30      3  2020      8       1             Afghanistan    AF   \n",
       "2  29/03/2020   29      3  2020     15       1             Afghanistan    AF   \n",
       "3  28/03/2020   28      3  2020     16       1             Afghanistan    AF   \n",
       "4  27/03/2020   27      3  2020      0       0             Afghanistan    AF   \n",
       "\n",
       "  countryterritoryCode  popData2018  \n",
       "0                  AFG   37172386.0  \n",
       "1                  AFG   37172386.0  \n",
       "2                  AFG   37172386.0  \n",
       "3                  AFG   37172386.0  \n",
       "4                  AFG   37172386.0  "
      ]
     },
     "execution_count": 6,
     "metadata": {},
     "output_type": "execute_result"
    }
   ],
   "source": [
    "covid19_df.head()"
   ]
  },
  {
   "cell_type": "code",
   "execution_count": 7,
   "metadata": {},
   "outputs": [
    {
     "data": {
      "text/html": [
       "<div>\n",
       "<style scoped>\n",
       "    .dataframe tbody tr th:only-of-type {\n",
       "        vertical-align: middle;\n",
       "    }\n",
       "\n",
       "    .dataframe tbody tr th {\n",
       "        vertical-align: top;\n",
       "    }\n",
       "\n",
       "    .dataframe thead th {\n",
       "        text-align: right;\n",
       "    }\n",
       "</style>\n",
       "<table border=\"1\" class=\"dataframe\">\n",
       "  <thead>\n",
       "    <tr style=\"text-align: right;\">\n",
       "      <th></th>\n",
       "      <th>dateRep</th>\n",
       "      <th>cases</th>\n",
       "      <th>deaths</th>\n",
       "      <th>countriesAndTerritories</th>\n",
       "      <th>popData2018</th>\n",
       "    </tr>\n",
       "  </thead>\n",
       "  <tbody>\n",
       "    <tr>\n",
       "      <th>0</th>\n",
       "      <td>2020-03-31</td>\n",
       "      <td>27</td>\n",
       "      <td>0</td>\n",
       "      <td>Afghanistan</td>\n",
       "      <td>37172386.0</td>\n",
       "    </tr>\n",
       "    <tr>\n",
       "      <th>1</th>\n",
       "      <td>2020-03-30</td>\n",
       "      <td>8</td>\n",
       "      <td>1</td>\n",
       "      <td>Afghanistan</td>\n",
       "      <td>37172386.0</td>\n",
       "    </tr>\n",
       "    <tr>\n",
       "      <th>2</th>\n",
       "      <td>2020-03-29</td>\n",
       "      <td>15</td>\n",
       "      <td>1</td>\n",
       "      <td>Afghanistan</td>\n",
       "      <td>37172386.0</td>\n",
       "    </tr>\n",
       "    <tr>\n",
       "      <th>3</th>\n",
       "      <td>2020-03-28</td>\n",
       "      <td>16</td>\n",
       "      <td>1</td>\n",
       "      <td>Afghanistan</td>\n",
       "      <td>37172386.0</td>\n",
       "    </tr>\n",
       "    <tr>\n",
       "      <th>4</th>\n",
       "      <td>2020-03-27</td>\n",
       "      <td>0</td>\n",
       "      <td>0</td>\n",
       "      <td>Afghanistan</td>\n",
       "      <td>37172386.0</td>\n",
       "    </tr>\n",
       "  </tbody>\n",
       "</table>\n",
       "</div>"
      ],
      "text/plain": [
       "     dateRep  cases  deaths countriesAndTerritories  popData2018\n",
       "0 2020-03-31     27       0             Afghanistan   37172386.0\n",
       "1 2020-03-30      8       1             Afghanistan   37172386.0\n",
       "2 2020-03-29     15       1             Afghanistan   37172386.0\n",
       "3 2020-03-28     16       1             Afghanistan   37172386.0\n",
       "4 2020-03-27      0       0             Afghanistan   37172386.0"
      ]
     },
     "execution_count": 7,
     "metadata": {},
     "output_type": "execute_result"
    }
   ],
   "source": [
    "covid19_df['dateRep'] = pd.to_datetime(covid19_df['dateRep'], dayfirst=True)\n",
    "covid19_df.drop(columns=drop_columns, inplace=True)\n",
    "covid19_df.head()"
   ]
  },
  {
   "cell_type": "code",
   "execution_count": 8,
   "metadata": {},
   "outputs": [
    {
     "data": {
      "text/html": [
       "<div>\n",
       "<style scoped>\n",
       "    .dataframe tbody tr th:only-of-type {\n",
       "        vertical-align: middle;\n",
       "    }\n",
       "\n",
       "    .dataframe tbody tr th {\n",
       "        vertical-align: top;\n",
       "    }\n",
       "\n",
       "    .dataframe thead th {\n",
       "        text-align: right;\n",
       "    }\n",
       "</style>\n",
       "<table border=\"1\" class=\"dataframe\">\n",
       "  <thead>\n",
       "    <tr style=\"text-align: right;\">\n",
       "      <th></th>\n",
       "      <th>dateRep</th>\n",
       "      <th>cases</th>\n",
       "      <th>deaths</th>\n",
       "      <th>countriesAndTerritories</th>\n",
       "      <th>popData2018</th>\n",
       "    </tr>\n",
       "  </thead>\n",
       "  <tbody>\n",
       "    <tr>\n",
       "      <th>2579</th>\n",
       "      <td>2019-12-31</td>\n",
       "      <td>0</td>\n",
       "      <td>0</td>\n",
       "      <td>Finland</td>\n",
       "      <td>5518050.0</td>\n",
       "    </tr>\n",
       "    <tr>\n",
       "      <th>1450</th>\n",
       "      <td>2019-12-31</td>\n",
       "      <td>0</td>\n",
       "      <td>0</td>\n",
       "      <td>Cases_on_an_international_conveyance_Japan</td>\n",
       "      <td>3000.0</td>\n",
       "    </tr>\n",
       "    <tr>\n",
       "      <th>2130</th>\n",
       "      <td>2019-12-31</td>\n",
       "      <td>0</td>\n",
       "      <td>0</td>\n",
       "      <td>Dominican_Republic</td>\n",
       "      <td>10627165.0</td>\n",
       "    </tr>\n",
       "    <tr>\n",
       "      <th>2897</th>\n",
       "      <td>2019-12-31</td>\n",
       "      <td>0</td>\n",
       "      <td>0</td>\n",
       "      <td>Germany</td>\n",
       "      <td>82927922.0</td>\n",
       "    </tr>\n",
       "    <tr>\n",
       "      <th>6070</th>\n",
       "      <td>2019-12-31</td>\n",
       "      <td>0</td>\n",
       "      <td>0</td>\n",
       "      <td>Qatar</td>\n",
       "      <td>2781677.0</td>\n",
       "    </tr>\n",
       "  </tbody>\n",
       "</table>\n",
       "</div>"
      ],
      "text/plain": [
       "        dateRep  cases  deaths                     countriesAndTerritories  \\\n",
       "2579 2019-12-31      0       0                                     Finland   \n",
       "1450 2019-12-31      0       0  Cases_on_an_international_conveyance_Japan   \n",
       "2130 2019-12-31      0       0                          Dominican_Republic   \n",
       "2897 2019-12-31      0       0                                     Germany   \n",
       "6070 2019-12-31      0       0                                       Qatar   \n",
       "\n",
       "      popData2018  \n",
       "2579    5518050.0  \n",
       "1450       3000.0  \n",
       "2130   10627165.0  \n",
       "2897   82927922.0  \n",
       "6070    2781677.0  "
      ]
     },
     "execution_count": 8,
     "metadata": {},
     "output_type": "execute_result"
    }
   ],
   "source": [
    "# Create df for one country\n",
    "#country_df = covid19_df.loc[covid19_df.countriesAndTerritories == \"China\"].copy()\n",
    "\n",
    "country_df = covid19_df.copy() \n",
    "country_df.sort_values(by=['dateRep'], ascending=True, inplace=True)\n",
    "country_df.head()"
   ]
  },
  {
   "cell_type": "markdown",
   "metadata": {},
   "source": [
    "<p style=\"color:red\">Because this dataframe is not specific to china (aka we have other contries in here) we can no longer do a simple cumsum on the cases and deaths becasue \n",
    "this will create a running total over all countries as opposed to just the one. To get around this we can use a pandas groupby. Groupbys are really usefull, basically what they do is create a \n",
    "series of small dataframes. So in this case we want to groupby <b>\"countriesAndTerritories\"</b>. What this groupby will do is it will create a temoporary mini dataframe for each unique country in the <b>\"countriesAndTerritories\"</b> column, in a sort of forloop fassion. Once we have the groupby dataframe we want to grab the relevant column and apply the cumsum() function. This way we make sure we're not creating a running total over differnt countries rather the cumultive sum is spcific to a given country</p>"
   ]
  },
  {
   "cell_type": "code",
   "execution_count": 9,
   "metadata": {},
   "outputs": [
    {
     "data": {
      "text/html": [
       "<div>\n",
       "<style scoped>\n",
       "    .dataframe tbody tr th:only-of-type {\n",
       "        vertical-align: middle;\n",
       "    }\n",
       "\n",
       "    .dataframe tbody tr th {\n",
       "        vertical-align: top;\n",
       "    }\n",
       "\n",
       "    .dataframe thead th {\n",
       "        text-align: right;\n",
       "    }\n",
       "</style>\n",
       "<table border=\"1\" class=\"dataframe\">\n",
       "  <thead>\n",
       "    <tr style=\"text-align: right;\">\n",
       "      <th></th>\n",
       "      <th>dateRep</th>\n",
       "      <th>cases</th>\n",
       "      <th>deaths</th>\n",
       "      <th>countriesAndTerritories</th>\n",
       "      <th>popData2018</th>\n",
       "      <th>Cum Cases</th>\n",
       "      <th>Cum Deaths</th>\n",
       "    </tr>\n",
       "  </thead>\n",
       "  <tbody>\n",
       "    <tr>\n",
       "      <th>2579</th>\n",
       "      <td>2019-12-31</td>\n",
       "      <td>0</td>\n",
       "      <td>0</td>\n",
       "      <td>Finland</td>\n",
       "      <td>5518050.0</td>\n",
       "      <td>0</td>\n",
       "      <td>0</td>\n",
       "    </tr>\n",
       "    <tr>\n",
       "      <th>1450</th>\n",
       "      <td>2019-12-31</td>\n",
       "      <td>0</td>\n",
       "      <td>0</td>\n",
       "      <td>Cases_on_an_international_conveyance_Japan</td>\n",
       "      <td>3000.0</td>\n",
       "      <td>0</td>\n",
       "      <td>0</td>\n",
       "    </tr>\n",
       "    <tr>\n",
       "      <th>2130</th>\n",
       "      <td>2019-12-31</td>\n",
       "      <td>0</td>\n",
       "      <td>0</td>\n",
       "      <td>Dominican_Republic</td>\n",
       "      <td>10627165.0</td>\n",
       "      <td>0</td>\n",
       "      <td>0</td>\n",
       "    </tr>\n",
       "    <tr>\n",
       "      <th>2897</th>\n",
       "      <td>2019-12-31</td>\n",
       "      <td>0</td>\n",
       "      <td>0</td>\n",
       "      <td>Germany</td>\n",
       "      <td>82927922.0</td>\n",
       "      <td>0</td>\n",
       "      <td>0</td>\n",
       "    </tr>\n",
       "    <tr>\n",
       "      <th>6070</th>\n",
       "      <td>2019-12-31</td>\n",
       "      <td>0</td>\n",
       "      <td>0</td>\n",
       "      <td>Qatar</td>\n",
       "      <td>2781677.0</td>\n",
       "      <td>0</td>\n",
       "      <td>0</td>\n",
       "    </tr>\n",
       "  </tbody>\n",
       "</table>\n",
       "</div>"
      ],
      "text/plain": [
       "        dateRep  cases  deaths                     countriesAndTerritories  \\\n",
       "2579 2019-12-31      0       0                                     Finland   \n",
       "1450 2019-12-31      0       0  Cases_on_an_international_conveyance_Japan   \n",
       "2130 2019-12-31      0       0                          Dominican_Republic   \n",
       "2897 2019-12-31      0       0                                     Germany   \n",
       "6070 2019-12-31      0       0                                       Qatar   \n",
       "\n",
       "      popData2018  Cum Cases  Cum Deaths  \n",
       "2579    5518050.0          0           0  \n",
       "1450       3000.0          0           0  \n",
       "2130   10627165.0          0           0  \n",
       "2897   82927922.0          0           0  \n",
       "6070    2781677.0          0           0  "
      ]
     },
     "execution_count": 9,
     "metadata": {},
     "output_type": "execute_result"
    }
   ],
   "source": [
    "# Add cumulative columns for cases and deaths\n",
    "# country_df['Cum Cases'] = country_df['cases'].cumsum()\n",
    "# country_df['Cum Deaths'] = country_df['deaths'].cumsum()\n",
    "country_df['Cum Cases'] = country_df.groupby(\"countriesAndTerritories\")['cases'].cumsum()\n",
    "country_df['Cum Deaths'] = country_df.groupby(\"countriesAndTerritories\")['deaths'].cumsum()\n",
    "country_df.head()"
   ]
  },
  {
   "cell_type": "markdown",
   "metadata": {},
   "source": [
    "<p style=\"color:red\">Hwe we have the same issue as above. We want to count the number of days since the 100th. But this will now be different for each country so again we need to apply a groupby</p>"
   ]
  },
  {
   "cell_type": "code",
   "execution_count": 10,
   "metadata": {},
   "outputs": [],
   "source": [
    "# Create column for days since x deaths\n",
    "country_df['flag'] = np.where(country_df['Cum Cases'] > 100, 1, 0) # this is fine to calculate globaly as its a true false, no agregaton at this stage\n",
    "\n",
    "# Here I use the same logic as you. I filter the dataframe on cases (impartant to note i'm only filtering the grouped by dataframe). I then groupby the countriesAndTerritories\n",
    "# column (again creating a unique dataframe for each country) and applying a cumulative sum to the \"flag\" column\n",
    "country_df['flag'] = country_df.loc[country_df['Cum Cases'] > 100].groupby(\"countriesAndTerritories\")['flag'].cumsum()"
   ]
  },
  {
   "cell_type": "code",
   "execution_count": 11,
   "metadata": {},
   "outputs": [
    {
     "data": {
      "text/html": [
       "<div>\n",
       "<style scoped>\n",
       "    .dataframe tbody tr th:only-of-type {\n",
       "        vertical-align: middle;\n",
       "    }\n",
       "\n",
       "    .dataframe tbody tr th {\n",
       "        vertical-align: top;\n",
       "    }\n",
       "\n",
       "    .dataframe thead th {\n",
       "        text-align: right;\n",
       "    }\n",
       "</style>\n",
       "<table border=\"1\" class=\"dataframe\">\n",
       "  <thead>\n",
       "    <tr style=\"text-align: right;\">\n",
       "      <th></th>\n",
       "      <th>dateRep</th>\n",
       "      <th>cases</th>\n",
       "      <th>deaths</th>\n",
       "      <th>countriesAndTerritories</th>\n",
       "      <th>popData2018</th>\n",
       "      <th>Cum Cases</th>\n",
       "      <th>Cum Deaths</th>\n",
       "      <th>flag</th>\n",
       "    </tr>\n",
       "  </thead>\n",
       "  <tbody>\n",
       "    <tr>\n",
       "      <th>1594</th>\n",
       "      <td>2020-01-15</td>\n",
       "      <td>0</td>\n",
       "      <td>1</td>\n",
       "      <td>China</td>\n",
       "      <td>1.392730e+09</td>\n",
       "      <td>59</td>\n",
       "      <td>2</td>\n",
       "      <td>NaN</td>\n",
       "    </tr>\n",
       "    <tr>\n",
       "      <th>1593</th>\n",
       "      <td>2020-01-16</td>\n",
       "      <td>0</td>\n",
       "      <td>0</td>\n",
       "      <td>China</td>\n",
       "      <td>1.392730e+09</td>\n",
       "      <td>59</td>\n",
       "      <td>2</td>\n",
       "      <td>NaN</td>\n",
       "    </tr>\n",
       "    <tr>\n",
       "      <th>1592</th>\n",
       "      <td>2020-01-17</td>\n",
       "      <td>4</td>\n",
       "      <td>0</td>\n",
       "      <td>China</td>\n",
       "      <td>1.392730e+09</td>\n",
       "      <td>63</td>\n",
       "      <td>2</td>\n",
       "      <td>NaN</td>\n",
       "    </tr>\n",
       "    <tr>\n",
       "      <th>1591</th>\n",
       "      <td>2020-01-18</td>\n",
       "      <td>17</td>\n",
       "      <td>0</td>\n",
       "      <td>China</td>\n",
       "      <td>1.392730e+09</td>\n",
       "      <td>80</td>\n",
       "      <td>2</td>\n",
       "      <td>NaN</td>\n",
       "    </tr>\n",
       "    <tr>\n",
       "      <th>1590</th>\n",
       "      <td>2020-01-19</td>\n",
       "      <td>136</td>\n",
       "      <td>1</td>\n",
       "      <td>China</td>\n",
       "      <td>1.392730e+09</td>\n",
       "      <td>216</td>\n",
       "      <td>3</td>\n",
       "      <td>1.0</td>\n",
       "    </tr>\n",
       "    <tr>\n",
       "      <th>1589</th>\n",
       "      <td>2020-01-20</td>\n",
       "      <td>19</td>\n",
       "      <td>0</td>\n",
       "      <td>China</td>\n",
       "      <td>1.392730e+09</td>\n",
       "      <td>235</td>\n",
       "      <td>3</td>\n",
       "      <td>2.0</td>\n",
       "    </tr>\n",
       "    <tr>\n",
       "      <th>1588</th>\n",
       "      <td>2020-01-21</td>\n",
       "      <td>151</td>\n",
       "      <td>3</td>\n",
       "      <td>China</td>\n",
       "      <td>1.392730e+09</td>\n",
       "      <td>386</td>\n",
       "      <td>6</td>\n",
       "      <td>3.0</td>\n",
       "    </tr>\n",
       "    <tr>\n",
       "      <th>1587</th>\n",
       "      <td>2020-01-22</td>\n",
       "      <td>140</td>\n",
       "      <td>11</td>\n",
       "      <td>China</td>\n",
       "      <td>1.392730e+09</td>\n",
       "      <td>526</td>\n",
       "      <td>17</td>\n",
       "      <td>4.0</td>\n",
       "    </tr>\n",
       "    <tr>\n",
       "      <th>1586</th>\n",
       "      <td>2020-01-23</td>\n",
       "      <td>97</td>\n",
       "      <td>0</td>\n",
       "      <td>China</td>\n",
       "      <td>1.392730e+09</td>\n",
       "      <td>623</td>\n",
       "      <td>17</td>\n",
       "      <td>5.0</td>\n",
       "    </tr>\n",
       "    <tr>\n",
       "      <th>1585</th>\n",
       "      <td>2020-01-24</td>\n",
       "      <td>259</td>\n",
       "      <td>9</td>\n",
       "      <td>China</td>\n",
       "      <td>1.392730e+09</td>\n",
       "      <td>882</td>\n",
       "      <td>26</td>\n",
       "      <td>6.0</td>\n",
       "    </tr>\n",
       "  </tbody>\n",
       "</table>\n",
       "</div>"
      ],
      "text/plain": [
       "        dateRep  cases  deaths countriesAndTerritories   popData2018  \\\n",
       "1594 2020-01-15      0       1                   China  1.392730e+09   \n",
       "1593 2020-01-16      0       0                   China  1.392730e+09   \n",
       "1592 2020-01-17      4       0                   China  1.392730e+09   \n",
       "1591 2020-01-18     17       0                   China  1.392730e+09   \n",
       "1590 2020-01-19    136       1                   China  1.392730e+09   \n",
       "1589 2020-01-20     19       0                   China  1.392730e+09   \n",
       "1588 2020-01-21    151       3                   China  1.392730e+09   \n",
       "1587 2020-01-22    140      11                   China  1.392730e+09   \n",
       "1586 2020-01-23     97       0                   China  1.392730e+09   \n",
       "1585 2020-01-24    259       9                   China  1.392730e+09   \n",
       "\n",
       "      Cum Cases  Cum Deaths  flag  \n",
       "1594         59           2   NaN  \n",
       "1593         59           2   NaN  \n",
       "1592         63           2   NaN  \n",
       "1591         80           2   NaN  \n",
       "1590        216           3   1.0  \n",
       "1589        235           3   2.0  \n",
       "1588        386           6   3.0  \n",
       "1587        526          17   4.0  \n",
       "1586        623          17   5.0  \n",
       "1585        882          26   6.0  "
      ]
     },
     "execution_count": 11,
     "metadata": {},
     "output_type": "execute_result"
    }
   ],
   "source": [
    "# as you can see because the groupby filtered out rows where cases were less than 100 the flag is now showing NaN values. All I do here is fill these nans with 0\n",
    "country_df[country_df.countriesAndTerritories ==\"China\"].iloc[15:25]"
   ]
  },
  {
   "cell_type": "code",
   "execution_count": 12,
   "metadata": {},
   "outputs": [],
   "source": [
    "country_df.flag.fillna(0, inplace=True) # fill the nans in the flag column as a reult of mergining in the filtered groupby"
   ]
  },
  {
   "cell_type": "markdown",
   "metadata": {},
   "source": [
    "<p style=\"color:red\">As we now want to gernerate a model which is aware of other countries we need to convert this column to numeric fields which the model can understand. Do do this we use <b>pd.get_dummies</b> to create a series of categorical (dummy) variables</p>"
   ]
  },
  {
   "cell_type": "code",
   "execution_count": 13,
   "metadata": {},
   "outputs": [
    {
     "data": {
      "text/html": [
       "<div>\n",
       "<style scoped>\n",
       "    .dataframe tbody tr th:only-of-type {\n",
       "        vertical-align: middle;\n",
       "    }\n",
       "\n",
       "    .dataframe tbody tr th {\n",
       "        vertical-align: top;\n",
       "    }\n",
       "\n",
       "    .dataframe thead th {\n",
       "        text-align: right;\n",
       "    }\n",
       "</style>\n",
       "<table border=\"1\" class=\"dataframe\">\n",
       "  <thead>\n",
       "    <tr style=\"text-align: right;\">\n",
       "      <th></th>\n",
       "      <th>countriesAndTerritories</th>\n",
       "      <th>Cum Cases</th>\n",
       "      <th>Cum Deaths</th>\n",
       "      <th>flag</th>\n",
       "    </tr>\n",
       "  </thead>\n",
       "  <tbody>\n",
       "    <tr>\n",
       "      <th>2579</th>\n",
       "      <td>Finland</td>\n",
       "      <td>0</td>\n",
       "      <td>0</td>\n",
       "      <td>0.0</td>\n",
       "    </tr>\n",
       "    <tr>\n",
       "      <th>1450</th>\n",
       "      <td>Cases_on_an_international_conveyance_Japan</td>\n",
       "      <td>0</td>\n",
       "      <td>0</td>\n",
       "      <td>0.0</td>\n",
       "    </tr>\n",
       "    <tr>\n",
       "      <th>2130</th>\n",
       "      <td>Dominican_Republic</td>\n",
       "      <td>0</td>\n",
       "      <td>0</td>\n",
       "      <td>0.0</td>\n",
       "    </tr>\n",
       "    <tr>\n",
       "      <th>2897</th>\n",
       "      <td>Germany</td>\n",
       "      <td>0</td>\n",
       "      <td>0</td>\n",
       "      <td>0.0</td>\n",
       "    </tr>\n",
       "    <tr>\n",
       "      <th>6070</th>\n",
       "      <td>Qatar</td>\n",
       "      <td>0</td>\n",
       "      <td>0</td>\n",
       "      <td>0.0</td>\n",
       "    </tr>\n",
       "  </tbody>\n",
       "</table>\n",
       "</div>"
      ],
      "text/plain": [
       "                         countriesAndTerritories  Cum Cases  Cum Deaths  flag\n",
       "2579                                     Finland          0           0   0.0\n",
       "1450  Cases_on_an_international_conveyance_Japan          0           0   0.0\n",
       "2130                          Dominican_Republic          0           0   0.0\n",
       "2897                                     Germany          0           0   0.0\n",
       "6070                                       Qatar          0           0   0.0"
      ]
     },
     "execution_count": 13,
     "metadata": {},
     "output_type": "execute_result"
    }
   ],
   "source": [
    "# I'll store the new dataframe as a new vairable so we can refer back to the dataframe above, country_df\n",
    "\n",
    "# first drop the columns we dont want, becasue once we have the dummy/ categorical columns it gets harder to work out which cols to keep\n",
    "df_model = country_df.drop(columns=[\"dateRep\", \"cases\", \"deaths\", \"popData2018\"]) \n",
    "df_model.head()"
   ]
  },
  {
   "cell_type": "code",
   "execution_count": 14,
   "metadata": {},
   "outputs": [
    {
     "data": {
      "text/html": [
       "<div>\n",
       "<style scoped>\n",
       "    .dataframe tbody tr th:only-of-type {\n",
       "        vertical-align: middle;\n",
       "    }\n",
       "\n",
       "    .dataframe tbody tr th {\n",
       "        vertical-align: top;\n",
       "    }\n",
       "\n",
       "    .dataframe thead th {\n",
       "        text-align: right;\n",
       "    }\n",
       "</style>\n",
       "<table border=\"1\" class=\"dataframe\">\n",
       "  <thead>\n",
       "    <tr style=\"text-align: right;\">\n",
       "      <th></th>\n",
       "      <th>Cum Cases</th>\n",
       "      <th>Cum Deaths</th>\n",
       "      <th>flag</th>\n",
       "      <th>countriesAndTerritories_Afghanistan</th>\n",
       "      <th>countriesAndTerritories_Albania</th>\n",
       "      <th>countriesAndTerritories_Algeria</th>\n",
       "      <th>countriesAndTerritories_Andorra</th>\n",
       "      <th>countriesAndTerritories_Angola</th>\n",
       "      <th>countriesAndTerritories_Anguilla</th>\n",
       "      <th>countriesAndTerritories_Antigua_and_Barbuda</th>\n",
       "      <th>...</th>\n",
       "      <th>countriesAndTerritories_United_Kingdom</th>\n",
       "      <th>countriesAndTerritories_United_Republic_of_Tanzania</th>\n",
       "      <th>countriesAndTerritories_United_States_Virgin_Islands</th>\n",
       "      <th>countriesAndTerritories_United_States_of_America</th>\n",
       "      <th>countriesAndTerritories_Uruguay</th>\n",
       "      <th>countriesAndTerritories_Uzbekistan</th>\n",
       "      <th>countriesAndTerritories_Venezuela</th>\n",
       "      <th>countriesAndTerritories_Vietnam</th>\n",
       "      <th>countriesAndTerritories_Zambia</th>\n",
       "      <th>countriesAndTerritories_Zimbabwe</th>\n",
       "    </tr>\n",
       "  </thead>\n",
       "  <tbody>\n",
       "    <tr>\n",
       "      <th>2579</th>\n",
       "      <td>0</td>\n",
       "      <td>0</td>\n",
       "      <td>0.0</td>\n",
       "      <td>0</td>\n",
       "      <td>0</td>\n",
       "      <td>0</td>\n",
       "      <td>0</td>\n",
       "      <td>0</td>\n",
       "      <td>0</td>\n",
       "      <td>0</td>\n",
       "      <td>...</td>\n",
       "      <td>0</td>\n",
       "      <td>0</td>\n",
       "      <td>0</td>\n",
       "      <td>0</td>\n",
       "      <td>0</td>\n",
       "      <td>0</td>\n",
       "      <td>0</td>\n",
       "      <td>0</td>\n",
       "      <td>0</td>\n",
       "      <td>0</td>\n",
       "    </tr>\n",
       "    <tr>\n",
       "      <th>1450</th>\n",
       "      <td>0</td>\n",
       "      <td>0</td>\n",
       "      <td>0.0</td>\n",
       "      <td>0</td>\n",
       "      <td>0</td>\n",
       "      <td>0</td>\n",
       "      <td>0</td>\n",
       "      <td>0</td>\n",
       "      <td>0</td>\n",
       "      <td>0</td>\n",
       "      <td>...</td>\n",
       "      <td>0</td>\n",
       "      <td>0</td>\n",
       "      <td>0</td>\n",
       "      <td>0</td>\n",
       "      <td>0</td>\n",
       "      <td>0</td>\n",
       "      <td>0</td>\n",
       "      <td>0</td>\n",
       "      <td>0</td>\n",
       "      <td>0</td>\n",
       "    </tr>\n",
       "    <tr>\n",
       "      <th>2130</th>\n",
       "      <td>0</td>\n",
       "      <td>0</td>\n",
       "      <td>0.0</td>\n",
       "      <td>0</td>\n",
       "      <td>0</td>\n",
       "      <td>0</td>\n",
       "      <td>0</td>\n",
       "      <td>0</td>\n",
       "      <td>0</td>\n",
       "      <td>0</td>\n",
       "      <td>...</td>\n",
       "      <td>0</td>\n",
       "      <td>0</td>\n",
       "      <td>0</td>\n",
       "      <td>0</td>\n",
       "      <td>0</td>\n",
       "      <td>0</td>\n",
       "      <td>0</td>\n",
       "      <td>0</td>\n",
       "      <td>0</td>\n",
       "      <td>0</td>\n",
       "    </tr>\n",
       "    <tr>\n",
       "      <th>2897</th>\n",
       "      <td>0</td>\n",
       "      <td>0</td>\n",
       "      <td>0.0</td>\n",
       "      <td>0</td>\n",
       "      <td>0</td>\n",
       "      <td>0</td>\n",
       "      <td>0</td>\n",
       "      <td>0</td>\n",
       "      <td>0</td>\n",
       "      <td>0</td>\n",
       "      <td>...</td>\n",
       "      <td>0</td>\n",
       "      <td>0</td>\n",
       "      <td>0</td>\n",
       "      <td>0</td>\n",
       "      <td>0</td>\n",
       "      <td>0</td>\n",
       "      <td>0</td>\n",
       "      <td>0</td>\n",
       "      <td>0</td>\n",
       "      <td>0</td>\n",
       "    </tr>\n",
       "    <tr>\n",
       "      <th>6070</th>\n",
       "      <td>0</td>\n",
       "      <td>0</td>\n",
       "      <td>0.0</td>\n",
       "      <td>0</td>\n",
       "      <td>0</td>\n",
       "      <td>0</td>\n",
       "      <td>0</td>\n",
       "      <td>0</td>\n",
       "      <td>0</td>\n",
       "      <td>0</td>\n",
       "      <td>...</td>\n",
       "      <td>0</td>\n",
       "      <td>0</td>\n",
       "      <td>0</td>\n",
       "      <td>0</td>\n",
       "      <td>0</td>\n",
       "      <td>0</td>\n",
       "      <td>0</td>\n",
       "      <td>0</td>\n",
       "      <td>0</td>\n",
       "      <td>0</td>\n",
       "    </tr>\n",
       "  </tbody>\n",
       "</table>\n",
       "<p>5 rows × 202 columns</p>\n",
       "</div>"
      ],
      "text/plain": [
       "      Cum Cases  Cum Deaths  flag  countriesAndTerritories_Afghanistan  \\\n",
       "2579          0           0   0.0                                    0   \n",
       "1450          0           0   0.0                                    0   \n",
       "2130          0           0   0.0                                    0   \n",
       "2897          0           0   0.0                                    0   \n",
       "6070          0           0   0.0                                    0   \n",
       "\n",
       "      countriesAndTerritories_Albania  countriesAndTerritories_Algeria  \\\n",
       "2579                                0                                0   \n",
       "1450                                0                                0   \n",
       "2130                                0                                0   \n",
       "2897                                0                                0   \n",
       "6070                                0                                0   \n",
       "\n",
       "      countriesAndTerritories_Andorra  countriesAndTerritories_Angola  \\\n",
       "2579                                0                               0   \n",
       "1450                                0                               0   \n",
       "2130                                0                               0   \n",
       "2897                                0                               0   \n",
       "6070                                0                               0   \n",
       "\n",
       "      countriesAndTerritories_Anguilla  \\\n",
       "2579                                 0   \n",
       "1450                                 0   \n",
       "2130                                 0   \n",
       "2897                                 0   \n",
       "6070                                 0   \n",
       "\n",
       "      countriesAndTerritories_Antigua_and_Barbuda  \\\n",
       "2579                                            0   \n",
       "1450                                            0   \n",
       "2130                                            0   \n",
       "2897                                            0   \n",
       "6070                                            0   \n",
       "\n",
       "                    ...                 \\\n",
       "2579                ...                  \n",
       "1450                ...                  \n",
       "2130                ...                  \n",
       "2897                ...                  \n",
       "6070                ...                  \n",
       "\n",
       "      countriesAndTerritories_United_Kingdom  \\\n",
       "2579                                       0   \n",
       "1450                                       0   \n",
       "2130                                       0   \n",
       "2897                                       0   \n",
       "6070                                       0   \n",
       "\n",
       "      countriesAndTerritories_United_Republic_of_Tanzania  \\\n",
       "2579                                                  0     \n",
       "1450                                                  0     \n",
       "2130                                                  0     \n",
       "2897                                                  0     \n",
       "6070                                                  0     \n",
       "\n",
       "      countriesAndTerritories_United_States_Virgin_Islands  \\\n",
       "2579                                                  0      \n",
       "1450                                                  0      \n",
       "2130                                                  0      \n",
       "2897                                                  0      \n",
       "6070                                                  0      \n",
       "\n",
       "      countriesAndTerritories_United_States_of_America  \\\n",
       "2579                                                 0   \n",
       "1450                                                 0   \n",
       "2130                                                 0   \n",
       "2897                                                 0   \n",
       "6070                                                 0   \n",
       "\n",
       "      countriesAndTerritories_Uruguay  countriesAndTerritories_Uzbekistan  \\\n",
       "2579                                0                                   0   \n",
       "1450                                0                                   0   \n",
       "2130                                0                                   0   \n",
       "2897                                0                                   0   \n",
       "6070                                0                                   0   \n",
       "\n",
       "      countriesAndTerritories_Venezuela  countriesAndTerritories_Vietnam  \\\n",
       "2579                                  0                                0   \n",
       "1450                                  0                                0   \n",
       "2130                                  0                                0   \n",
       "2897                                  0                                0   \n",
       "6070                                  0                                0   \n",
       "\n",
       "      countriesAndTerritories_Zambia  countriesAndTerritories_Zimbabwe  \n",
       "2579                               0                                 0  \n",
       "1450                               0                                 0  \n",
       "2130                               0                                 0  \n",
       "2897                               0                                 0  \n",
       "6070                               0                                 0  \n",
       "\n",
       "[5 rows x 202 columns]"
      ]
     },
     "execution_count": 14,
     "metadata": {},
     "output_type": "execute_result"
    }
   ],
   "source": [
    "# now we get the dummy variables/ categroical variables for the countriesAndTerritories column\n",
    "df_model = pd.get_dummies(df_model, columns=[\"countriesAndTerritories\"])\n",
    "df_model.head() # remember for each row only one of the categorical columns have the value 1 all the rest are 0. This tells the model which country the entry is for"
   ]
  },
  {
   "cell_type": "code",
   "execution_count": 15,
   "metadata": {},
   "outputs": [],
   "source": [
    "df_model[\"tempCountry\"] = country_df[\"countriesAndTerritories\"]"
   ]
  },
  {
   "cell_type": "code",
   "execution_count": 16,
   "metadata": {},
   "outputs": [],
   "source": [
    "def split_data(df, split_frac, data_type=\"test\"):\n",
    "    test_rows = int(np.floor(len(df) * split_frac))\n",
    "    test_index = len(df) - test_rows\n",
    "    if data_type == \"test\":\n",
    "        df = df.iloc[test_index:, :]\n",
    "    elif data_type == \"train\":\n",
    "        df = df.iloc[:test_index,:]\n",
    "    return df"
   ]
  },
  {
   "cell_type": "code",
   "execution_count": 17,
   "metadata": {},
   "outputs": [],
   "source": [
    "test_split =0.3"
   ]
  },
  {
   "cell_type": "markdown",
   "metadata": {},
   "source": [
    "<h3>Discrete approach tp train test sampling</h3>\n",
    "<p>try sampling the last fraction of data from each country</p>"
   ]
  },
  {
   "cell_type": "code",
   "execution_count": 18,
   "metadata": {},
   "outputs": [],
   "source": [
    "df_model_test = df_model.groupby(\"tempCountry\", as_index= False).apply(lambda x: split_data(x, test_split, \"test\"))\n",
    "df_model_train = df_model.groupby(\"tempCountry\", as_index=False).apply(lambda x: split_data(x, test_split, \"train\"))"
   ]
  },
  {
   "cell_type": "code",
   "execution_count": 19,
   "metadata": {},
   "outputs": [],
   "source": [
    "df_model_train.index = [i for i in range(len(df_model_train))]\n",
    "df_model_test.index = [i for i in range(len(df_model_test))]"
   ]
  },
  {
   "cell_type": "code",
   "execution_count": 20,
   "metadata": {},
   "outputs": [],
   "source": [
    "# Create series for days vs cases\n",
    "\n",
    "# X = country_df.iloc[:, 7:8]\n",
    "# y = country_df.iloc[:, 5:6]\n",
    "country_cols = [i for i in list(df_model) if \"countriesAndTerritories\" in i] # use list comprehenssion to get a list of all the categorical columns and the order they appear in\n",
    "\n",
    "training_cols = [\"flag\"] + country_cols # add the flag column back into the list of features for the model"
   ]
  },
  {
   "cell_type": "code",
   "execution_count": 21,
   "metadata": {},
   "outputs": [],
   "source": [
    "X_train = df_model_train[training_cols]\n",
    "X_test = df_model_test[training_cols]\n",
    "y_train = df_model_train[\"Cum Cases\"]\n",
    "y_test = df_model_test[\"Cum Cases\"]\n"
   ]
  },
  {
   "cell_type": "code",
   "execution_count": 22,
   "metadata": {},
   "outputs": [
    {
     "name": "stderr",
     "output_type": "stream",
     "text": [
      "C:\\Users\\DR25798\\AppData\\Local\\Continuum\\anaconda3\\lib\\site-packages\\ipykernel_launcher.py:6: SettingWithCopyWarning: \n",
      "A value is trying to be set on a copy of a slice from a DataFrame.\n",
      "Try using .loc[row_indexer,col_indexer] = value instead\n",
      "\n",
      "See the caveats in the documentation: http://pandas.pydata.org/pandas-docs/stable/indexing.html#indexing-view-versus-copy\n",
      "  \n",
      "C:\\Users\\DR25798\\AppData\\Local\\Continuum\\anaconda3\\lib\\site-packages\\ipykernel_launcher.py:7: SettingWithCopyWarning: \n",
      "A value is trying to be set on a copy of a slice from a DataFrame.\n",
      "Try using .loc[row_indexer,col_indexer] = value instead\n",
      "\n",
      "See the caveats in the documentation: http://pandas.pydata.org/pandas-docs/stable/indexing.html#indexing-view-versus-copy\n",
      "  import sys\n"
     ]
    }
   ],
   "source": [
    "# Fit linear relationship\n",
    "lin_reg = LinearRegression()\n",
    "lin_reg.fit(X_train, y_train)\n",
    "\n",
    "# create new column in dataframe for linear prediction\n",
    "X_test[\"linearPred\"]= lin_reg.predict(X_test)\n",
    "X_train[\"linearPred\"]= lin_reg.predict(X_train)"
   ]
  },
  {
   "cell_type": "code",
   "execution_count": 23,
   "metadata": {},
   "outputs": [],
   "source": [
    "# Fit polynomial relationship\n",
    "# poly_reg = PolynomialFeatures(degree = 9)\n",
    "# X_poly = poly_reg.fit_transform(X_train)\n",
    "from sklearn.ensemble import RandomForestRegressor\n",
    "from sklearn.model_selection import ShuffleSplit, GridSearchCV"
   ]
  },
  {
   "cell_type": "code",
   "execution_count": 24,
   "metadata": {},
   "outputs": [],
   "source": [
    "# poly_reg.fit(X_poly, y)\n",
    "# lin_reg_2 = LinearRegression()\n",
    "# lin_reg_2.fit(X_poly, y)"
   ]
  },
  {
   "cell_type": "code",
   "execution_count": 25,
   "metadata": {},
   "outputs": [],
   "source": [
    "params = {\"n_estimators\": [50,100,150,200],\n",
    "         \"max_depth\": [5,10,15,20], \n",
    "         \"min_samples_split\": [2,3,5]}"
   ]
  },
  {
   "cell_type": "code",
   "execution_count": 26,
   "metadata": {},
   "outputs": [],
   "source": [
    "rf= RandomForestRegressor(verbose=1, n_jobs=-1)"
   ]
  },
  {
   "cell_type": "code",
   "execution_count": 33,
   "metadata": {},
   "outputs": [],
   "source": [
    "cv= GridSearchCV(estimator=rf,\n",
    "                 param_grid=params,\n",
    "                 cv=10,\n",
    "                 scoring=\"neg_median_absolute_error\",\n",
    "                 verbose=1,\n",
    "                 n_jobs=-1)"
   ]
  },
  {
   "cell_type": "code",
   "execution_count": 28,
   "metadata": {},
   "outputs": [
    {
     "name": "stdout",
     "output_type": "stream",
     "text": [
      "Fitting 10 folds for each of 48 candidates, totalling 480 fits\n"
     ]
    },
    {
     "name": "stderr",
     "output_type": "stream",
     "text": [
      "[Parallel(n_jobs=-1)]: Using backend LokyBackend with 8 concurrent workers.\n",
      "[Parallel(n_jobs=-1)]: Done  34 tasks      | elapsed:   24.1s\n",
      "[Parallel(n_jobs=-1)]: Done 184 tasks      | elapsed:  2.3min\n",
      "[Parallel(n_jobs=-1)]: Done 434 tasks      | elapsed:  7.0min\n",
      "[Parallel(n_jobs=-1)]: Done 480 out of 480 | elapsed:  7.6min finished\n",
      "C:\\Users\\DR25798\\AppData\\Local\\Continuum\\anaconda3\\lib\\site-packages\\sklearn\\model_selection\\_search.py:841: DeprecationWarning: The default of the `iid` parameter will change from True to False in version 0.22 and will be removed in 0.24. This will change numeric results when test-set sizes are unequal.\n",
      "  DeprecationWarning)\n",
      "[Parallel(n_jobs=-1)]: Using backend ThreadingBackend with 8 concurrent workers.\n",
      "[Parallel(n_jobs=-1)]: Done  34 tasks      | elapsed:    0.1s\n",
      "[Parallel(n_jobs=-1)]: Done  50 out of  50 | elapsed:    0.2s finished\n"
     ]
    }
   ],
   "source": [
    "model = cv.fit(X_train, y_train)"
   ]
  },
  {
   "cell_type": "code",
   "execution_count": 29,
   "metadata": {},
   "outputs": [
    {
     "name": "stderr",
     "output_type": "stream",
     "text": [
      "[Parallel(n_jobs=8)]: Using backend ThreadingBackend with 8 concurrent workers.\n",
      "[Parallel(n_jobs=8)]: Done  34 tasks      | elapsed:    0.0s\n",
      "[Parallel(n_jobs=8)]: Done  50 out of  50 | elapsed:    0.0s finished\n",
      "[Parallel(n_jobs=8)]: Using backend ThreadingBackend with 8 concurrent workers.\n",
      "[Parallel(n_jobs=8)]: Done  34 tasks      | elapsed:    0.0s\n",
      "[Parallel(n_jobs=8)]: Done  50 out of  50 | elapsed:    0.0s finished\n"
     ]
    }
   ],
   "source": [
    "df_model_train[\"rf_prediction\"] = model.predict(X_train)\n",
    "df_model_test[\"rf_prediction\"] = model.predict(X_test)"
   ]
  },
  {
   "cell_type": "code",
   "execution_count": 41,
   "metadata": {},
   "outputs": [],
   "source": [
    "import pickle as pkl"
   ]
  },
  {
   "cell_type": "code",
   "execution_count": 38,
   "metadata": {},
   "outputs": [],
   "source": [
    "pkl.dump(model, open(\"rf_cases.pkl\", \"wb\"))"
   ]
  },
  {
   "cell_type": "code",
   "execution_count": 39,
   "metadata": {},
   "outputs": [],
   "source": [
    "top_count = df_model_test.tempCountry.value_counts().iloc[:20]"
   ]
  },
  {
   "cell_type": "code",
   "execution_count": 40,
   "metadata": {},
   "outputs": [],
   "source": [
    "countries_in_both = [i for i in top_count.keys() if i in df_model_test.tempCountry.tolist()]"
   ]
  },
  {
   "cell_type": "code",
   "execution_count": 41,
   "metadata": {},
   "outputs": [
    {
     "data": {
      "image/png": "[encoded data removed]",
      "text/plain": [
       "<Figure size 1800x864 with 1 Axes>"
      ]
     },
     "metadata": {
      "needs_background": "light"
     },
     "output_type": "display_data"
    }
   ],
   "source": [
    "# Visualising the Linear Regression results\n",
    "plt.figure(figsize=(25, 12))\n",
    "for country in df_model_train.tempCountry.unique():\n",
    "    plt.scatter(df_model_train[df_model_train[\"tempCountry\"] == country][\"flag\"],\n",
    "                df_model_train[df_model_train[\"tempCountry\"] == country][\"Cum Cases\"],\n",
    "                marker=\"o\", label=f\"{country} train actual cases\")\n",
    "#     plt.scatter(X_test[X_test[\"countryName\"] == country][\"flag\"], X_test[X_test[\"countryName\"] == country][\"actualCases\"], marker=\"x\", label= f\"{country} test actual cases\")\n",
    "    \n",
    "    plt.plot(df_model_train[df_model_train[\"tempCountry\"] == country][\"flag\"],\n",
    "             df_model_train[df_model_train[\"tempCountry\"] == country][\"rf_prediction\"], label=f\"{country} train actual cases\")\n",
    "#     plt.plot(X_test[X_test[\"countryName\"] == country][\"flag\"], X_test[X_test[\"countryName\"] == country][\"rf_prediction\"])\n",
    "plt.title('Cumulative Cases (Linear Regression)')\n",
    "plt.xlabel('Days Since 100 Case')\n",
    "#plt.legend()\n",
    "plt.ylabel('Cases')\n",
    "plt.show()\n"
   ]
  },
  {
   "cell_type": "code",
   "execution_count": 42,
   "metadata": {},
   "outputs": [
    {
     "data": {
      "image/png": "[encoded data removed]",
      "text/plain": [
       "<Figure size 1800x864 with 1 Axes>"
      ]
     },
     "metadata": {
      "needs_background": "light"
     },
     "output_type": "display_data"
    }
   ],
   "source": [
    "# Visualising the Linear Regression results\n",
    "plt.figure(figsize=(25, 12))\n",
    "for country in df_model_test.tempCountry.unique():\n",
    "    plt.scatter(df_model_test[df_model_test[\"tempCountry\"] == country][\"flag\"],\n",
    "                df_model_test[df_model_test[\"tempCountry\"] == country][\"Cum Cases\"],\n",
    "                marker=\"o\", label=f\"{country} train actual cases\")\n",
    "    \n",
    "    plt.plot(df_model_test[df_model_test[\"tempCountry\"] == country][\"flag\"],\n",
    "             df_model_test[df_model_test[\"tempCountry\"] == country][\"rf_prediction\"])\n",
    "plt.title('Cumulative Cases (Linear Regression)')\n",
    "plt.xlabel('Days Since 100 Case')\n",
    "plt.ylabel('Cases')\n",
    "plt.show()\n"
   ]
  },
  {
   "cell_type": "markdown",
   "metadata": {},
   "source": [
    "<h3>Classic train test split approach</h3>\n",
    "<p>Compare results against the above train test samples</p>"
   ]
  },
  {
   "cell_type": "code",
   "execution_count": 34,
   "metadata": {},
   "outputs": [],
   "source": [
    "from sklearn.model_selection import train_test_split"
   ]
  },
  {
   "cell_type": "code",
   "execution_count": 35,
   "metadata": {},
   "outputs": [],
   "source": [
    "df_model[\"tempCountry\"] = country_df[\"countriesAndTerritories\"]"
   ]
  },
  {
   "cell_type": "code",
   "execution_count": 36,
   "metadata": {},
   "outputs": [],
   "source": [
    "keep_cols = [\"flag\", \"tempCountry\"]+[i for i in list(df_model) if \"countriesAndTerritories\" in i]"
   ]
  },
  {
   "cell_type": "code",
   "execution_count": 37,
   "metadata": {},
   "outputs": [],
   "source": [
    "X_train, X_test, y_train, y_test = train_test_split(df_model[keep_cols], df_model[\"Cum Cases\"], test_size=0.3, random_state=42)"
   ]
  },
  {
   "cell_type": "code",
   "execution_count": 38,
   "metadata": {},
   "outputs": [],
   "source": [
    "X_train_country = X_train[\"tempCountry\"]\n",
    "X_test_country = X_test[\"tempCountry\"]\n",
    "\n",
    "X_train.drop(columns=\"tempCountry\", inplace=True)\n",
    "X_test.drop(columns=\"tempCountry\", inplace=True)"
   ]
  },
  {
   "cell_type": "code",
   "execution_count": 39,
   "metadata": {},
   "outputs": [
    {
     "name": "stdout",
     "output_type": "stream",
     "text": [
      "Fitting 10 folds for each of 48 candidates, totalling 480 fits\n"
     ]
    },
    {
     "name": "stderr",
     "output_type": "stream",
     "text": [
      "[Parallel(n_jobs=-1)]: Using backend LokyBackend with 8 concurrent workers.\n",
      "[Parallel(n_jobs=-1)]: Done  34 tasks      | elapsed:   34.5s\n",
      "[Parallel(n_jobs=-1)]: Done 184 tasks      | elapsed:  2.8min\n",
      "[Parallel(n_jobs=-1)]: Done 434 tasks      | elapsed: 10.5min\n",
      "[Parallel(n_jobs=-1)]: Done 480 out of 480 | elapsed: 12.1min finished\n",
      "[Parallel(n_jobs=-1)]: Using backend ThreadingBackend with 8 concurrent workers.\n",
      "[Parallel(n_jobs=-1)]: Done  34 tasks      | elapsed:    0.6s\n",
      "[Parallel(n_jobs=-1)]: Done 100 out of 100 | elapsed:    1.7s finished\n"
     ]
    }
   ],
   "source": [
    "model_2 = cv.fit(X_train, y_train)"
   ]
  },
  {
   "cell_type": "code",
   "execution_count": 45,
   "metadata": {},
   "outputs": [],
   "source": [
    "pkl.dump(model_2,open(\"rf_cases_trainsplit.pkl\", \"wb\"))"
   ]
  },
  {
   "cell_type": "code",
   "execution_count": 46,
   "metadata": {},
   "outputs": [
    {
     "name": "stderr",
     "output_type": "stream",
     "text": [
      "[Parallel(n_jobs=8)]: Using backend ThreadingBackend with 8 concurrent workers.\n",
      "[Parallel(n_jobs=8)]: Done  34 tasks      | elapsed:    0.0s\n",
      "[Parallel(n_jobs=8)]: Done 100 out of 100 | elapsed:    0.0s finished\n",
      "[Parallel(n_jobs=8)]: Using backend ThreadingBackend with 8 concurrent workers.\n",
      "[Parallel(n_jobs=8)]: Done  34 tasks      | elapsed:    0.0s\n",
      "[Parallel(n_jobs=8)]: Done 100 out of 100 | elapsed:    0.0s finished\n"
     ]
    }
   ],
   "source": [
    "X_train[\"rf_prediction\"] = model_2.predict(X_train)\n",
    "X_test[\"rf_prediction\"] = model_2.predict(X_test)"
   ]
  },
  {
   "cell_type": "code",
   "execution_count": 47,
   "metadata": {},
   "outputs": [],
   "source": [
    "X_train[\"tempCountry\"] = X_train_country\n",
    "X_test[\"tempCountry\"] = X_test_country\n",
    "\n",
    "X_train[\"Cum Cases\"] = y_train\n",
    "X_test[\"Cum Cases\"] = y_test"
   ]
  },
  {
   "cell_type": "code",
   "execution_count": 58,
   "metadata": {},
   "outputs": [
    {
     "data": {
      "image/png": "[encoded data removed]",
      "text/plain": [
       "<Figure size 864x864 with 1 Axes>"
      ]
     },
     "metadata": {
      "needs_background": "light"
     },
     "output_type": "display_data"
    }
   ],
   "source": [
    "plt.figure(figsize=(12, 12))\n",
    "plt.scatter(X_test.rf_prediction, X_test[\"Cum Cases\"], alpha=0.5, label=\"test predictions\")\n",
    "plt.scatter(X_train.rf_prediction, X_train[\"Cum Cases\"], alpha=0.5, label=\"train predictions\")\n",
    "plt.plot(X_train[\"Cum Cases\"], X_train[\"Cum Cases\"], label=\"actual train\", linestyle=\"--\", color=\"black\")\n",
    "plt.legend()\n",
    "plt.show()"
   ]
  },
  {
   "cell_type": "code",
   "execution_count": 49,
   "metadata": {},
   "outputs": [],
   "source": [
    "from sklearn.metrics import mean_absolute_error, median_absolute_error"
   ]
  },
  {
   "cell_type": "code",
   "execution_count": 50,
   "metadata": {},
   "outputs": [
    {
     "data": {
      "text/plain": [
       "96.95909181340896"
      ]
     },
     "execution_count": 50,
     "metadata": {},
     "output_type": "execute_result"
    }
   ],
   "source": [
    "mean_absolute_error(X_test.rf_prediction, X_test[\"Cum Cases\"])"
   ]
  },
  {
   "cell_type": "code",
   "execution_count": 51,
   "metadata": {},
   "outputs": [
    {
     "data": {
      "text/plain": [
       "77.708000177371"
      ]
     },
     "execution_count": 51,
     "metadata": {},
     "output_type": "execute_result"
    }
   ],
   "source": [
    "mean_absolute_error(X_train.rf_prediction, X_train[\"Cum Cases\"])"
   ]
  },
  {
   "cell_type": "code",
   "execution_count": 52,
   "metadata": {},
   "outputs": [
    {
     "data": {
      "text/plain": [
       "8.692532376240733"
      ]
     },
     "execution_count": 52,
     "metadata": {},
     "output_type": "execute_result"
    }
   ],
   "source": [
    "median_absolute_error(X_test.rf_prediction, X_test[\"Cum Cases\"])"
   ]
  },
  {
   "cell_type": "code",
   "execution_count": 53,
   "metadata": {},
   "outputs": [
    {
     "data": {
      "text/plain": [
       "8.692532376240733"
      ]
     },
     "execution_count": 53,
     "metadata": {},
     "output_type": "execute_result"
    }
   ],
   "source": [
    "median_absolute_error(X_train.rf_prediction, X_train[\"Cum Cases\"])"
   ]
  },
  {
   "cell_type": "code",
   "execution_count": null,
   "metadata": {},
   "outputs": [],
   "source": []
  }
 ],
 "metadata": {
  "kernelspec": {
   "display_name": "Python 3",
   "language": "python",
   "name": "python3"
  },
  "language_info": {
   "codemirror_mode": {
    "name": "ipython",
    "version": 3
   },
   "file_extension": ".py",
   "mimetype": "text/x-python",
   "name": "python",
   "nbconvert_exporter": "python",
   "pygments_lexer": "ipython3",
   "version": "3.7.1"
  }
 },
 "nbformat": 4,
 "nbformat_minor": 2
}
